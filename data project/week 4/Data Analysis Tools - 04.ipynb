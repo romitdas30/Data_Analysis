{
 "cells": [
  {
   "cell_type": "markdown",
   "metadata": {},
   "source": [
    "# Data Analysis Tools Week 4"
   ]
  },
  {
   "cell_type": "code",
   "execution_count": null,
   "metadata": {},
   "outputs": [],
   "source": [
    "!pip install pandas seaborn matplotlib scipy"
   ]
  },
  {
   "cell_type": "code",
   "execution_count": null,
   "metadata": {},
   "outputs": [],
   "source": [
    "\n",
    "import pandas as pd\n",
    "import seaborn as sns\n",
    "import matplotlib.pyplot as plt\n",
    "import scipy.stats\n",
    "import scipy\n",
    "\n",
    "data4 = pd.read_csv('./gapminder.csv', low_memory=False)\n",
    "\n",
    "data4['internetuserate'] = pd.to_numeric(data4['internetuserate'], errors='coerce')\n",
    "data4['incomeperperson'] = pd.to_numeric(data4['incomeperperson'], errors='coerce')\n",
    "data4['employrate'] = pd.to_numeric(data4['employrate'], errors='coerce')"
   ]
  },
  {
   "cell_type": "markdown",
   "metadata": {},
   "source": [
    "Drop the NAs and perform single regression between employment rate and internet use rate"
   ]
  },
  {
   "cell_type": "code",
   "execution_count": null,
   "metadata": {},
   "outputs": [],
   "source": [
    "data_clean = data4.dropna()\n",
    "# Perform ANOVA, Chi-Square Test or correlation coefficient that includes a moderator\n",
    "scipy.stats.pearsonr(data_clean['employrate'], data_clean['internetuserate'])"
   ]
  },
  {
   "cell_type": "markdown",
   "metadata": {},
   "source": [
    "Sort countries into three income groups: Low, Mid, and High; and print the counts in each group"
   ]
  },
  {
   "cell_type": "code",
   "execution_count": null,
   "metadata": {},
   "outputs": [],
   "source": [
    "def incomegrp (row):\n",
    "    if row['incomeperperson'] <= 744.239:\n",
    "        return 1\n",
    "    elif row['incomeperperson'] <= 9425.326:\n",
    "        return 2\n",
    "    elif row['incomeperperson'] > 9425.326:\n",
    "        return 3\n",
    "\n",
    "pd.options.mode.chained_assignment = None \n",
    "data_clean['incomegrp'] = data_clean.apply (lambda row: incomegrp (row),axis=1)\n",
    " \n",
    "chk1 = data_clean['incomegrp'].value_counts(sort=False, dropna=False)\n",
    "chk1"
   ]
  },
  {
   "cell_type": "markdown",
   "metadata": {},
   "source": [
    "Create dataframes containing these subgroups of income"
   ]
  },
  {
   "cell_type": "code",
   "execution_count": null,
   "metadata": {},
   "outputs": [],
   "source": [
    "clean_sub1 = data_clean[(data_clean['incomegrp']== 1)]\n",
    "clean_sub2 = data_clean[(data_clean['incomegrp']== 2)]\n",
    "clean_sub3 = data_clean[(data_clean['incomegrp']== 3)]"
   ]
  },
  {
   "cell_type": "markdown",
   "metadata": {},
   "source": [
    "Association between employrate and internetuserate for LOW income countries"
   ]
  },
  {
   "cell_type": "code",
   "execution_count": null,
   "metadata": {},
   "outputs": [],
   "source": [
    "scipy.stats.pearsonr(clean_sub1['employrate'], clean_sub1['internetuserate'])"
   ]
  },
  {
   "cell_type": "markdown",
   "metadata": {},
   "source": [
    "Association between employrate and internetuserate for MIDDLE income countries'"
   ]
  },
  {
   "cell_type": "code",
   "execution_count": null,
   "metadata": {},
   "outputs": [],
   "source": [
    "scipy.stats.pearsonr(clean_sub2['employrate'], clean_sub2['internetuserate'])"
   ]
  },
  {
   "cell_type": "markdown",
   "metadata": {},
   "source": [
    "Association between employrate and internetuserate for HIGH income countries'"
   ]
  },
  {
   "cell_type": "code",
   "execution_count": null,
   "metadata": {},
   "outputs": [],
   "source": [
    "scipy.stats.pearsonr(clean_sub3['employrate'], clean_sub3['internetuserate'])"
   ]
  },
  {
   "cell_type": "code",
   "execution_count": null,
   "metadata": {},
   "outputs": [],
   "source": [
    "scat1 = sns.regplot(x=\"employrate\", y=\"internetuserate\", data=clean_sub1)\n",
    "plt.xlabel('Employment Rate')\n",
    "plt.ylabel('Internet Use Rate')\n",
    "plt.title('Scatterplot for the Association Between Employment Rate and Internet Use Rate for LOW income countries')\n",
    "plt.show()"
   ]
  },
  {
   "cell_type": "code",
   "execution_count": null,
   "metadata": {},
   "outputs": [],
   "source": [
    "scat2 = sns.regplot(x=\"employrate\", y=\"internetuserate\", data=clean_sub2)\n",
    "plt.xlabel('Employment Rate')\n",
    "plt.ylabel('Internet Use Rate')\n",
    "plt.title('Scatterplot for the Association Between Employment Rate and Internet Use Rate for MIDDLE income countries')\n",
    "plt.show()"
   ]
  },
  {
   "cell_type": "code",
   "execution_count": null,
   "metadata": {},
   "outputs": [],
   "source": [
    "scat3 = sns.regplot(x=\"employrate\", y=\"internetuserate\", data=clean_sub3)\n",
    "plt.xlabel('Employment Rate')\n",
    "plt.ylabel('Internet Use Rate')\n",
    "plt.title('Scatterplot for the Association Between Employment Rate and Internet Use Rate for HIGH income countries')\n",
    "plt.show()"
   ]
  },
  {
   "cell_type": "markdown",
   "metadata": {},
   "source": [
    "As I predicted, the correlation between employment rate and internet use rate for Low-income countries is insignificant, with a p-value of 0.0683, greater than our cutoff of 0.05. However, with p-values for Mid- and High-income countries of 0.0431 and 0.0273, respectively, the correlation is statistically significant. One odd thing to note though is that the relationship for Mid-income countries is inverse that of High-income countries. The r correlation for Mid-income countries is -0.237 while for High-income countries it is +0.390. This is interesting. If true, it would indicate that internet use in High-income countries benefits employment, but in  Mid-income countries, it is a hinderance. Too much Facebook, maybe?"
   ]
  }
 ],
 "metadata": {
  "kernelspec": {
   "display_name": "Python 3 (ipykernel)",
   "language": "python",
   "name": "python3"
  },
  "language_info": {
   "codemirror_mode": {
    "name": "ipython",
    "version": 3
   },
   "file_extension": ".py",
   "mimetype": "text/x-python",
   "name": "python",
   "nbconvert_exporter": "python",
   "pygments_lexer": "ipython3",
   "version": "3.11.3"
  }
 },
 "nbformat": 4,
 "nbformat_minor": 1
}
