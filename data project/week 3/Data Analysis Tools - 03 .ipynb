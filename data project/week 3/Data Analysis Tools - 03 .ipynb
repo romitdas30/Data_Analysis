{
 "cells": [
  {
   "cell_type": "markdown",
   "metadata": {},
   "source": [
    "# Data Analysis Tools week3\n"
   ]
  },
  {
   "cell_type": "code",
   "execution_count": null,
   "metadata": {},
   "outputs": [],
   "source": [
    "!pip install pandas scipy seaborn matplotlib"
   ]
  },
  {
   "cell_type": "code",
   "execution_count": null,
   "metadata": {},
   "outputs": [],
   "source": [
    "\n",
    "import pandas as pd\n",
    "import scipy\n",
    "import seaborn as sns\n",
    "import matplotlib.pyplot as plt\n",
    "\n",
    "data3 = pd.read_csv('./gapminder.csv', low_memory=False)"
   ]
  },
  {
   "cell_type": "markdown",
   "metadata": {},
   "source": [
    "Set the variables to numeric and discard NA values"
   ]
  },
  {
   "cell_type": "code",
   "execution_count": null,
   "metadata": {},
   "outputs": [],
   "source": [
    "data3['internetuserate'] = pd.to_numeric(data3['internetuserate'], errors='coerce')\n",
    "data3['incomeperperson'] = pd.to_numeric(data3['incomeperperson'], errors='coerce')\n",
    " \n",
    "sub1 = data3.copy()\n",
    " \n",
    "data_clean = sub1.dropna()"
   ]
  },
  {
   "cell_type": "markdown",
   "metadata": {},
   "source": [
    "Association between incomeperperson and internetuserate"
   ]
  },
  {
   "cell_type": "code",
   "execution_count": null,
   "metadata": {},
   "outputs": [],
   "source": [
    "scipy.stats.pearsonr(data_clean['incomeperperson'], data_clean['internetuserate'])"
   ]
  },
  {
   "cell_type": "code",
   "execution_count": null,
   "metadata": {},
   "outputs": [],
   "source": [
    "plt.figure()\n",
    "scat1 = sns.regplot(x=\"internetuserate\", y=\"incomeperperson\", fit_reg=True, data=data_clean)\n",
    "plt.xlabel('Internet Use Rate')\n",
    "plt.ylabel('Income Per Person')\n",
    "plt.title('Scatterplot for the Association Between Internet Use Rate and Income Per Person')\n",
    "plt.show()"
   ]
  },
  {
   "cell_type": "markdown",
   "metadata": {},
   "source": [
    "The relationship is highly correlated, with correlation coefficient of 0.814  and a p-value of 8.59 x 10<sup>-37</sup>; it is highly unlikely that a relationship of this magnitude would be down to chance alone. This correlation coefficient indicates that 66% of the internet use rate of a country can be predicted based upon knowledge of the GDP of that country."
   ]
  }
 ],
 "metadata": {
  "kernelspec": {
   "display_name": "Python 3 (ipykernel)",
   "language": "python",
   "name": "python3"
  },
  "language_info": {
   "codemirror_mode": {
    "name": "ipython",
    "version": 3
   },
   "file_extension": ".py",
   "mimetype": "text/x-python",
   "name": "python",
   "nbconvert_exporter": "python",
   "pygments_lexer": "ipython3",
   "version": "3.11.3"
  }
 },
 "nbformat": 4,
 "nbformat_minor": 1
}
